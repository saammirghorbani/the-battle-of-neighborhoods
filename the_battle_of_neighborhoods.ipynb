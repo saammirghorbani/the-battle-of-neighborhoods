{
  "nbformat": 4,
  "nbformat_minor": 0,
  "metadata": {
    "colab": {
      "name": "the-battle-of-neighborhoods.ipynb",
      "provenance": [],
      "collapsed_sections": [],
      "authorship_tag": "ABX9TyOnjtVePV+WmkCrTajUVDKN"
    },
    "kernelspec": {
      "name": "python3",
      "display_name": "Python 3"
    }
  },
  "cells": [
    {
      "cell_type": "markdown",
      "metadata": {
        "id": "CHPteVhAjvSf",
        "colab_type": "text"
      },
      "source": [
        "#Best place to live in Sydney\n",
        "*The Battle of Neighborhoods - IBM Data Science Capstone Project*"
      ]
    },
    {
      "cell_type": "markdown",
      "metadata": {
        "id": "mW3wGGQZTZYy",
        "colab_type": "text"
      },
      "source": [
        "##Introduction\n",
        "Sydney is a fast growing city with 669 suburbs (as of 1 March 2020) http://www.walksydneystreets.net/suburbssydneyall.htm and has been high up on the list for most liveable cities in the world for several years. It is no suprise that many people dream of visiting or starting a life in Sydney. \n",
        "\n",
        "In 2019 I had the privledge of going on exchange to Sydney for one semester, and I can safely say that it is a great place to be! However, it is also one of the most expensive cities in the world, and with so many suburbs it is hard to know which places that one should consider when choosing where to live. This is where the idea for this project started. \n",
        "\n",
        "What if we could use Data Science to recommend which places would be of interest for someone planning on moving to Sydney, or even just choosing a place to stay temporarily?\n",
        "\n",
        "In this project, the goal is to make suggestions based on three main factors:\n",
        "* Proximity to recommended venues.\n",
        "* Living expenses.\n",
        "* Safety.\n"
      ]
    },
    {
      "cell_type": "markdown",
      "metadata": {
        "id": "5RNqyeOsU_Dg",
        "colab_type": "text"
      },
      "source": [
        "##Data\n",
        "The data for this project will be gathered from various sources using API calls, web scraping and publicly available datasets. \n",
        "\n",
        "* Foursquare API will be used for gathering information about the most popular venue types in each suburb. This will be done to recommend the most suitable places to live based on the stakeholder's venues of interest.\n",
        "\n",
        "* Australian post codes with coordinates https://www.matthewproctor.com/australian_postcodes. Australia Post charges for using their dataset. Instead, a regularly updated, community maintained dataset will be used for this project. Sydney suburb names with coordinates will be extracted from this dataset and then used with the Foursquare API to list venues in each suburb for recommendation.\n",
        "\n",
        "* Since data about real estate value for all suburbs is hard to come by, median house prices from https://www.aussie.com.au/content/dam/aussie/documents/home-loans/aussie_25_years_report.pdf will be web scraped for the top 20 suburbs that have seen the most growth over the past 25 years in real estate value. In addition, information about the distribution of restaurant and café venue price levels (Commonly known as \\$, \\$\\$, \\$\\$\\$, \\$\\$\\$\\$) will be collected from each suburb with the Foursquare API. Data from these sources will then be used for clustering neighborhoods after living expenses.\n",
        "\n",
        "* Crime data from 2019 for each Sydney suburb, web scraped from the NSW Bureau of Crime Statistics and Research https://www.bocsar.nsw.gov.au/Pages/bocsar_crime_stats/bocsar_latest_quarterly_and_annual_reports.aspx. This will be done so that a stakeholder can find the safest suburbs in Sydney.\n",
        "\n",
        "* Geojson data from https://data.gov.au/dataset/ds-dga-91e70237-d9d1-4719-a82f-e71b811154c6/details which contains suburb names and boundary coordinates. This will be used for visualizing suburbs with boundaries."
      ]
    }
  ]
}